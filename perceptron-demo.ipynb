{
 "cells": [
  {
   "cell_type": "code",
   "execution_count": 1,
   "id": "d4e02b89",
   "metadata": {
    "execution": {
     "iopub.execute_input": "2025-02-04T15:43:12.162340Z",
     "iopub.status.busy": "2025-02-04T15:43:12.161722Z",
     "iopub.status.idle": "2025-02-04T15:43:15.016389Z",
     "shell.execute_reply": "2025-02-04T15:43:15.015033Z"
    },
    "papermill": {
     "duration": 2.863913,
     "end_time": "2025-02-04T15:43:15.019717",
     "exception": false,
     "start_time": "2025-02-04T15:43:12.155804",
     "status": "completed"
    },
    "tags": []
   },
   "outputs": [],
   "source": [
    "import numpy as np\n",
    "import pandas as pd\n",
    "import matplotlib.pyplot as plt\n",
    "import seaborn as sns"
   ]
  },
  {
   "cell_type": "code",
   "execution_count": 2,
   "id": "8be78bf4",
   "metadata": {
    "execution": {
     "iopub.execute_input": "2025-02-04T15:43:15.032217Z",
     "iopub.status.busy": "2025-02-04T15:43:15.030973Z",
     "iopub.status.idle": "2025-02-04T15:43:15.061059Z",
     "shell.execute_reply": "2025-02-04T15:43:15.059590Z"
    },
    "papermill": {
     "duration": 0.038148,
     "end_time": "2025-02-04T15:43:15.063661",
     "exception": false,
     "start_time": "2025-02-04T15:43:15.025513",
     "status": "completed"
    },
    "tags": []
   },
   "outputs": [],
   "source": [
    "df=pd.read_csv('/kaggle/input/placement-dataset/placement-dataset.csv')"
   ]
  },
  {
   "cell_type": "code",
   "execution_count": 3,
   "id": "9e1f3a97",
   "metadata": {
    "execution": {
     "iopub.execute_input": "2025-02-04T15:43:15.073444Z",
     "iopub.status.busy": "2025-02-04T15:43:15.072925Z",
     "iopub.status.idle": "2025-02-04T15:43:15.107835Z",
     "shell.execute_reply": "2025-02-04T15:43:15.106414Z"
    },
    "papermill": {
     "duration": 0.042492,
     "end_time": "2025-02-04T15:43:15.110137",
     "exception": false,
     "start_time": "2025-02-04T15:43:15.067645",
     "status": "completed"
    },
    "tags": []
   },
   "outputs": [
    {
     "data": {
      "text/html": [
       "<div>\n",
       "<style scoped>\n",
       "    .dataframe tbody tr th:only-of-type {\n",
       "        vertical-align: middle;\n",
       "    }\n",
       "\n",
       "    .dataframe tbody tr th {\n",
       "        vertical-align: top;\n",
       "    }\n",
       "\n",
       "    .dataframe thead th {\n",
       "        text-align: right;\n",
       "    }\n",
       "</style>\n",
       "<table border=\"1\" class=\"dataframe\">\n",
       "  <thead>\n",
       "    <tr style=\"text-align: right;\">\n",
       "      <th></th>\n",
       "      <th>Unnamed: 0</th>\n",
       "      <th>cgpa</th>\n",
       "      <th>iq</th>\n",
       "      <th>placement</th>\n",
       "    </tr>\n",
       "  </thead>\n",
       "  <tbody>\n",
       "    <tr>\n",
       "      <th>0</th>\n",
       "      <td>0</td>\n",
       "      <td>6.8</td>\n",
       "      <td>123.0</td>\n",
       "      <td>1</td>\n",
       "    </tr>\n",
       "    <tr>\n",
       "      <th>1</th>\n",
       "      <td>1</td>\n",
       "      <td>5.9</td>\n",
       "      <td>106.0</td>\n",
       "      <td>0</td>\n",
       "    </tr>\n",
       "    <tr>\n",
       "      <th>2</th>\n",
       "      <td>2</td>\n",
       "      <td>5.3</td>\n",
       "      <td>121.0</td>\n",
       "      <td>0</td>\n",
       "    </tr>\n",
       "    <tr>\n",
       "      <th>3</th>\n",
       "      <td>3</td>\n",
       "      <td>7.4</td>\n",
       "      <td>132.0</td>\n",
       "      <td>1</td>\n",
       "    </tr>\n",
       "    <tr>\n",
       "      <th>4</th>\n",
       "      <td>4</td>\n",
       "      <td>5.8</td>\n",
       "      <td>142.0</td>\n",
       "      <td>0</td>\n",
       "    </tr>\n",
       "  </tbody>\n",
       "</table>\n",
       "</div>"
      ],
      "text/plain": [
       "   Unnamed: 0  cgpa     iq  placement\n",
       "0           0   6.8  123.0          1\n",
       "1           1   5.9  106.0          0\n",
       "2           2   5.3  121.0          0\n",
       "3           3   7.4  132.0          1\n",
       "4           4   5.8  142.0          0"
      ]
     },
     "execution_count": 3,
     "metadata": {},
     "output_type": "execute_result"
    }
   ],
   "source": [
    "df.head()"
   ]
  },
  {
   "cell_type": "code",
   "execution_count": 4,
   "id": "c47538f9",
   "metadata": {
    "execution": {
     "iopub.execute_input": "2025-02-04T15:43:15.120560Z",
     "iopub.status.busy": "2025-02-04T15:43:15.119872Z",
     "iopub.status.idle": "2025-02-04T15:43:15.308456Z",
     "shell.execute_reply": "2025-02-04T15:43:15.306397Z"
    },
    "papermill": {
     "duration": 0.196139,
     "end_time": "2025-02-04T15:43:15.310647",
     "exception": true,
     "start_time": "2025-02-04T15:43:15.114508",
     "status": "failed"
    },
    "tags": []
   },
   "outputs": [
    {
     "ename": "TypeError",
     "evalue": "scatterplot() takes from 0 to 1 positional arguments but 2 positional arguments (and 1 keyword-only argument) were given",
     "output_type": "error",
     "traceback": [
      "\u001b[0;31m---------------------------------------------------------------------------\u001b[0m",
      "\u001b[0;31mTypeError\u001b[0m                                 Traceback (most recent call last)",
      "\u001b[0;32m<ipython-input-4-d6e3dede0676>\u001b[0m in \u001b[0;36m<cell line: 1>\u001b[0;34m()\u001b[0m\n\u001b[0;32m----> 1\u001b[0;31m \u001b[0msns\u001b[0m\u001b[0;34m.\u001b[0m\u001b[0mscatterplot\u001b[0m\u001b[0;34m(\u001b[0m\u001b[0mdf\u001b[0m\u001b[0;34m[\u001b[0m\u001b[0;34m'cgpa'\u001b[0m\u001b[0;34m]\u001b[0m\u001b[0;34m,\u001b[0m\u001b[0mdf\u001b[0m\u001b[0;34m[\u001b[0m\u001b[0;34m'iq'\u001b[0m\u001b[0;34m]\u001b[0m\u001b[0;34m,\u001b[0m\u001b[0mhue\u001b[0m\u001b[0;34m=\u001b[0m\u001b[0mdf\u001b[0m\u001b[0;34m[\u001b[0m\u001b[0;34m'placement'\u001b[0m\u001b[0;34m]\u001b[0m\u001b[0;34m)\u001b[0m\u001b[0;34m\u001b[0m\u001b[0;34m\u001b[0m\u001b[0m\n\u001b[0m",
      "\u001b[0;31mTypeError\u001b[0m: scatterplot() takes from 0 to 1 positional arguments but 2 positional arguments (and 1 keyword-only argument) were given"
     ]
    }
   ],
   "source": [
    "sns.scatterplot(df['cgpa'],df['iq'],hue=df['placement'])"
   ]
  },
  {
   "cell_type": "code",
   "execution_count": null,
   "id": "c67d287e",
   "metadata": {
    "execution": {
     "iopub.status.busy": "2025-02-04T15:32:31.321170Z",
     "iopub.status.idle": "2025-02-04T15:32:31.321504Z",
     "shell.execute_reply": "2025-02-04T15:32:31.321379Z"
    },
    "papermill": {
     "duration": null,
     "end_time": null,
     "exception": null,
     "start_time": null,
     "status": "pending"
    },
    "tags": []
   },
   "outputs": [],
   "source": [
    "plt.scatter(df['cgpa'], df['iq'], c=df['placement'], cmap='viridis')"
   ]
  },
  {
   "cell_type": "code",
   "execution_count": null,
   "id": "6fb20ccf",
   "metadata": {
    "execution": {
     "iopub.status.busy": "2025-02-04T15:32:31.322205Z",
     "iopub.status.idle": "2025-02-04T15:32:31.322558Z",
     "shell.execute_reply": "2025-02-04T15:32:31.322429Z"
    },
    "papermill": {
     "duration": null,
     "end_time": null,
     "exception": null,
     "start_time": null,
     "status": "pending"
    },
    "tags": []
   },
   "outputs": [],
   "source": [
    "from sklearn.linear_model import Perceptron\n",
    "p=Perceptron()"
   ]
  },
  {
   "cell_type": "code",
   "execution_count": null,
   "id": "8329ebd9",
   "metadata": {
    "execution": {
     "iopub.execute_input": "2025-02-04T15:33:48.664253Z",
     "iopub.status.busy": "2025-02-04T15:33:48.663722Z",
     "iopub.status.idle": "2025-02-04T15:33:48.676184Z",
     "shell.execute_reply": "2025-02-04T15:33:48.675146Z",
     "shell.execute_reply.started": "2025-02-04T15:33:48.664220Z"
    },
    "papermill": {
     "duration": null,
     "end_time": null,
     "exception": null,
     "start_time": null,
     "status": "pending"
    },
    "tags": []
   },
   "outputs": [],
   "source": [
    "X = df.iloc[:,1:3]\n",
    "y = df.iloc[:,-1]\n",
    "p.fit(X,y)"
   ]
  },
  {
   "cell_type": "code",
   "execution_count": null,
   "id": "921f2798",
   "metadata": {
    "execution": {
     "iopub.execute_input": "2025-02-04T15:33:52.911622Z",
     "iopub.status.busy": "2025-02-04T15:33:52.911294Z",
     "iopub.status.idle": "2025-02-04T15:33:52.918211Z",
     "shell.execute_reply": "2025-02-04T15:33:52.917066Z",
     "shell.execute_reply.started": "2025-02-04T15:33:52.911595Z"
    },
    "papermill": {
     "duration": null,
     "end_time": null,
     "exception": null,
     "start_time": null,
     "status": "pending"
    },
    "tags": []
   },
   "outputs": [],
   "source": [
    "# weights\n",
    "p.coef_"
   ]
  },
  {
   "cell_type": "markdown",
   "id": "363f3320",
   "metadata": {
    "papermill": {
     "duration": null,
     "end_time": null,
     "exception": null,
     "start_time": null,
     "status": "pending"
    },
    "tags": []
   },
   "source": []
  },
  {
   "cell_type": "code",
   "execution_count": null,
   "id": "89c0f2db",
   "metadata": {
    "execution": {
     "iopub.execute_input": "2025-02-04T15:34:18.753345Z",
     "iopub.status.busy": "2025-02-04T15:34:18.753017Z",
     "iopub.status.idle": "2025-02-04T15:34:18.759545Z",
     "shell.execute_reply": "2025-02-04T15:34:18.758317Z",
     "shell.execute_reply.started": "2025-02-04T15:34:18.753320Z"
    },
    "papermill": {
     "duration": null,
     "end_time": null,
     "exception": null,
     "start_time": null,
     "status": "pending"
    },
    "tags": []
   },
   "outputs": [],
   "source": [
    "# bias\n",
    "p.intercept_"
   ]
  },
  {
   "cell_type": "code",
   "execution_count": null,
   "id": "11d69868",
   "metadata": {
    "execution": {
     "iopub.execute_input": "2025-02-04T15:36:24.007379Z",
     "iopub.status.busy": "2025-02-04T15:36:24.007048Z",
     "iopub.status.idle": "2025-02-04T15:36:24.011643Z",
     "shell.execute_reply": "2025-02-04T15:36:24.010493Z",
     "shell.execute_reply.started": "2025-02-04T15:36:24.007355Z"
    },
    "papermill": {
     "duration": null,
     "end_time": null,
     "exception": null,
     "start_time": null,
     "status": "pending"
    },
    "tags": []
   },
   "outputs": [],
   "source": [
    "from mlxtend.plotting import plot_decision_regions"
   ]
  },
  {
   "cell_type": "code",
   "execution_count": null,
   "id": "390ddcd6",
   "metadata": {
    "execution": {
     "iopub.execute_input": "2025-02-04T15:37:58.614589Z",
     "iopub.status.busy": "2025-02-04T15:37:58.614232Z",
     "iopub.status.idle": "2025-02-04T15:37:58.957116Z",
     "shell.execute_reply": "2025-02-04T15:37:58.956001Z",
     "shell.execute_reply.started": "2025-02-04T15:37:58.614561Z"
    },
    "papermill": {
     "duration": null,
     "end_time": null,
     "exception": null,
     "start_time": null,
     "status": "pending"
    },
    "tags": []
   },
   "outputs": [],
   "source": [
    "# clf is for specifing our classifier used\n",
    "plot_decision_regions(X.values,y.values,clf=p,legend=2)"
   ]
  }
 ],
 "metadata": {
  "kaggle": {
   "accelerator": "none",
   "dataSources": [
    {
     "datasetId": 6603035,
     "sourceId": 10662144,
     "sourceType": "datasetVersion"
    }
   ],
   "dockerImageVersionId": 30839,
   "isGpuEnabled": false,
   "isInternetEnabled": false,
   "language": "python",
   "sourceType": "notebook"
  },
  "kernelspec": {
   "display_name": "Python 3",
   "language": "python",
   "name": "python3"
  },
  "language_info": {
   "codemirror_mode": {
    "name": "ipython",
    "version": 3
   },
   "file_extension": ".py",
   "mimetype": "text/x-python",
   "name": "python",
   "nbconvert_exporter": "python",
   "pygments_lexer": "ipython3",
   "version": "3.10.12"
  },
  "papermill": {
   "default_parameters": {},
   "duration": 7.267187,
   "end_time": "2025-02-04T15:43:16.340418",
   "environment_variables": {},
   "exception": true,
   "input_path": "__notebook__.ipynb",
   "output_path": "__notebook__.ipynb",
   "parameters": {},
   "start_time": "2025-02-04T15:43:09.073231",
   "version": "2.6.0"
  }
 },
 "nbformat": 4,
 "nbformat_minor": 5
}
